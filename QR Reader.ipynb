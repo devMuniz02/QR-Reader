{
 "cells": [
  {
   "cell_type": "code",
   "execution_count": 1,
   "id": "055d9328-59eb-428e-9333-84e9aa66735e",
   "metadata": {
    "tags": []
   },
   "outputs": [],
   "source": [
    "!pip install -q qrcode opencv-python"
   ]
  },
  {
   "cell_type": "code",
   "execution_count": 2,
   "id": "7fdc4f01-b99e-459b-90b7-18c6dc6490b4",
   "metadata": {
    "tags": []
   },
   "outputs": [
    {
     "name": "stdout",
     "output_type": "stream",
     "text": [
      "QR Code saved as github_repo.png\n",
      "QR Code Data: https://github.com/devMuniz02/QR-Reader/\n"
     ]
    }
   ],
   "source": [
    "import qrcode\n",
    "import cv2\n",
    "import numpy as np\n",
    "from PIL import Image\n",
    "\n",
    "# Function to create a QR Code\n",
    "def create_qr_code(data, filename=\"qr_code.png\"):\n",
    "    qr = qrcode.QRCode(\n",
    "        version=1,\n",
    "        error_correction=qrcode.constants.ERROR_CORRECT_L,\n",
    "        box_size=10,\n",
    "        border=4,\n",
    "    )\n",
    "    qr.add_data(data)\n",
    "    qr.make(fit=True)\n",
    "\n",
    "    img = qr.make_image(fill_color=\"black\", back_color=\"white\")\n",
    "    img.save(filename)\n",
    "    print(f\"QR Code saved as {filename}\")\n",
    "\n",
    "# Function to read a QR Code from an image file\n",
    "def read_qr_code(filename):\n",
    "    # Load the image\n",
    "    img = cv2.imread(filename)\n",
    "    \n",
    "    # Convert the image to grayscale\n",
    "    gray = cv2.cvtColor(img, cv2.COLOR_BGR2GRAY)\n",
    "    \n",
    "    # Initialize QR code detector\n",
    "    qr_detector = cv2.QRCodeDetector()\n",
    "    \n",
    "    # Detect and decode the QR code\n",
    "    data, points, _ = qr_detector.detectAndDecode(gray)\n",
    "    if data:\n",
    "        print(f\"QR Code Data: {data}\")\n",
    "    else:\n",
    "        print(\"No QR Code detected\")\n",
    "\n",
    "# Main code\n",
    "if __name__ == \"__main__\":\n",
    "    # Create a QR code\n",
    "    qr_data = \"https://github.com/devMuniz02/QR-Reader/\"\n",
    "    qr_filename = \"github_repo.png\"\n",
    "    create_qr_code(qr_data, qr_filename)\n",
    "    \n",
    "    # Read the QR code\n",
    "    read_qr_code(\"github_repo.png\")\n"
   ]
  },
  {
   "cell_type": "code",
   "execution_count": null,
   "id": "777025bd-c49a-4bc3-a111-c2eaa69f47e0",
   "metadata": {},
   "outputs": [],
   "source": []
  }
 ],
 "metadata": {
  "kernelspec": {
   "display_name": "sagemaker-distribution:Python",
   "language": "python",
   "name": "conda-env-sagemaker-distribution-py"
  },
  "language_info": {
   "codemirror_mode": {
    "name": "ipython",
    "version": 3
   },
   "file_extension": ".py",
   "mimetype": "text/x-python",
   "name": "python",
   "nbconvert_exporter": "python",
   "pygments_lexer": "ipython3",
   "version": "3.10.14"
  }
 },
 "nbformat": 4,
 "nbformat_minor": 5
}
